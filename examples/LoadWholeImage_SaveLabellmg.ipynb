{
 "cells": [
  {
   "cell_type": "markdown",
   "id": "0c427b11-61b3-41c4-8ec7-96cbe7a1562b",
   "metadata": {},
   "source": [
    "# OME-Zarr ROI processing\n",
    "This notebook shows how to load a whole OME-Zarr image, apply some processing to it and store the results as a new label image into the OME-Zarr"
   ]
  },
  {
   "cell_type": "markdown",
   "id": "7e865676-e37f-4f73-9ae9-bf59c5e976cd",
   "metadata": {},
   "source": [
    "### Load whole OME-Zarr image, process it, store resulting labels back into OME-Zarr "
   ]
  },
  {
   "cell_type": "code",
   "execution_count": null,
   "id": "4f0a2be7-0871-4902-9709-0574e2fd6d55",
   "metadata": {},
   "outputs": [],
   "source": [
    "import zarr\n",
    "import dask.array as da\n",
    "import numpy as np\n",
    "from skimage.measure import label\n",
    "from skimage.filters import threshold_otsu\n",
    "from skimage.morphology import closing, square, remove_small_holes, remove_small_objects\n",
    "import napari"
   ]
  },
  {
   "cell_type": "code",
   "execution_count": null,
   "id": "7fa39e0b-3057-4efa-b051-e20b93aa6073",
   "metadata": {},
   "outputs": [],
   "source": [
    "# TODO: Change to download the zenodo example data, run it on those\n",
    "zarr_url = \"/Users/joel/Desktop/20230510_Fractal_web_test/20200812-CardiomyocyteDifferentiation14-Cycle1_mip.zarr/B/03/0\"\n",
    "level = 0\n",
    "channel_index = 0\n",
    "\n",
    "img = da.from_zarr(f\"{zarr_url}/{level}\")[channel_index]"
   ]
  },
  {
   "cell_type": "code",
   "execution_count": null,
   "id": "038c5ac9-caf5-4160-a859-7fd4f303b57a",
   "metadata": {},
   "outputs": [],
   "source": [
    "img"
   ]
  },
  {
   "cell_type": "code",
   "execution_count": null,
   "id": "29d9f3a6-1d70-448e-8f88-3c127561d0d1",
   "metadata": {},
   "outputs": [],
   "source": []
  },
  {
   "cell_type": "code",
   "execution_count": null,
   "id": "8a1d7518-cc78-4a7d-bde3-638c653c8a75",
   "metadata": {},
   "outputs": [],
   "source": [
    "# Convert it to a numpy array, do arbitrary processing with the image\n",
    "# Depending on the processing you want to do, it may also work directly in dask\n",
    "min_size=256\n",
    "img = np.array(img)\n",
    "otsu_threshold = threshold_otsu(img)\n",
    "img_thr = img > otsu_threshold\n",
    "img_thr = remove_small_holes(img_thr)\n",
    "img_thr_cleaned = remove_small_objects(img_thr, min_size=min_size)"
   ]
  },
  {
   "cell_type": "code",
   "execution_count": null,
   "id": "f257100b-6f7c-432a-be2c-b88c139459ae",
   "metadata": {},
   "outputs": [],
   "source": [
    "label_image = label(img_thr_cleaned)\n",
    "label_image.shape"
   ]
  },
  {
   "cell_type": "code",
   "execution_count": null,
   "id": "7cffaa85-8990-4f7f-8267-208a08100e72",
   "metadata": {},
   "outputs": [],
   "source": [
    "# Have a look at the label image in napari\n",
    "viewer = napari.Viewer()\n",
    "viewer.add_image(img)\n",
    "label_layer = viewer.add_labels(label_image)"
   ]
  },
  {
   "cell_type": "code",
   "execution_count": null,
   "id": "6293af34-0fea-49ce-9917-406b0d42a314",
   "metadata": {},
   "outputs": [],
   "source": [
    "# Optionally modify the label layer manually in napari, then get that modified label layer\n",
    "label_image = label_layer.data"
   ]
  },
  {
   "cell_type": "markdown",
   "id": "326adb15-f5dc-466a-8e95-beac9adb89e5",
   "metadata": {},
   "source": [
    "### Save the resulting label image back to the OME-Zarr file"
   ]
  },
  {
   "cell_type": "code",
   "execution_count": null,
   "id": "8f10a2f5-f3e5-4abc-b93c-52cd0a356719",
   "metadata": {},
   "outputs": [],
   "source": [
    "from ome_zarr.writer import write_labels"
   ]
  },
  {
   "cell_type": "code",
   "execution_count": null,
   "id": "bd8cbf7b-40aa-4d95-8dc4-c63b08de773c",
   "metadata": {},
   "outputs": [],
   "source": [
    "new_label_name = \"manual_thresholding_1\"\n",
    "with zarr.open(zarr_url, mode='rw+') as zarr_img:\n",
    "    write_labels(\n",
    "        label_image,\n",
    "        zarr_img,\n",
    "        name = new_label_name,\n",
    "        axes = \"zyx\",\n",
    "        storage_options = {\"dimension_separator\": '/'}\n",
    "    )\n",
    "\n",
    "    # Hacky way of ensuring we have the correct metadata, because the writer \n",
    "    # doesn't get the metadata right yet.\n",
    "    # This assumes the output labels have the same shape as the loaded image\n",
    "    coordinate_transforms = zarr_img.attrs[\"multiscales\"][0]['datasets']\n",
    "    axes = zarr_img.attrs[\"multiscales\"][0][\"axes\"]\n",
    "    labels_zarr = zarr_img[f\"labels/{new_label_name}\"]\n",
    "    multiscales = labels_zarr.attrs['multiscales']\n",
    "    multiscales[0]['datasets'] = coordinate_transforms\n",
    "    # Skip the channels axis, because this image contains no channels\n",
    "    multiscales[0][\"axes\"] = axes[1:]\n",
    "    labels_zarr.attrs['multiscales'] = multiscales\n"
   ]
  },
  {
   "cell_type": "markdown",
   "id": "483dd3a2-04a7-47f3-ae4c-391914714593",
   "metadata": {},
   "source": []
  },
  {
   "cell_type": "code",
   "execution_count": null,
   "id": "863e6f6f-ecb0-48ab-9d94-f30d2c9d8e8a",
   "metadata": {},
   "outputs": [],
   "source": []
  },
  {
   "cell_type": "code",
   "execution_count": null,
   "id": "8fb7a6ff-2132-4a4f-84d4-3d74e1cf3124",
   "metadata": {},
   "outputs": [],
   "source": []
  },
  {
   "cell_type": "code",
   "execution_count": null,
   "id": "35edc14d-aefa-4034-8c79-4f786c00d304",
   "metadata": {},
   "outputs": [],
   "source": []
  },
  {
   "cell_type": "code",
   "execution_count": null,
   "id": "f47dd25b-8036-4007-936d-a6d3cd24d163",
   "metadata": {},
   "outputs": [],
   "source": []
  },
  {
   "cell_type": "code",
   "execution_count": null,
   "id": "e9f80c9b-a951-4b6f-982b-5f7d3bbe86df",
   "metadata": {},
   "outputs": [],
   "source": []
  }
 ],
 "metadata": {
  "kernelspec": {
   "display_name": "Python 3 (ipykernel)",
   "language": "python",
   "name": "python3"
  },
  "language_info": {
   "codemirror_mode": {
    "name": "ipython",
    "version": 3
   },
   "file_extension": ".py",
   "mimetype": "text/x-python",
   "name": "python",
   "nbconvert_exporter": "python",
   "pygments_lexer": "ipython3",
   "version": "3.10.10"
  }
 },
 "nbformat": 4,
 "nbformat_minor": 5
}
