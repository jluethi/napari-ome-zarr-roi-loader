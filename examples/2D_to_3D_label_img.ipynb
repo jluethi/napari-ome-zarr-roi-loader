{
 "cells": [
  {
   "cell_type": "markdown",
   "id": "0c427b11-61b3-41c4-8ec7-96cbe7a1562b",
   "metadata": {},
   "source": [
    "# 2D labels to 3D labels\n",
    "This notebook loads a label image from a 2D OME-Zarr image, as well as a ROI table.\n",
    "It then converts it to a 3D segmentation and saves that to the OME-Zarr file. Also saving a new ROI_table there"
   ]
  },
  {
   "cell_type": "code",
   "execution_count": null,
   "id": "01f19305-0f31-4b46-8239-c3d2a56272fd",
   "metadata": {},
   "outputs": [],
   "source": [
    "import zarr\n",
    "import dask.array as da\n",
    "import numpy as np\n",
    "from skimage.measure import label\n",
    "from skimage.filters import threshold_otsu\n",
    "from skimage.morphology import closing, square, remove_small_holes, remove_small_objects\n",
    "import napari\n",
    "from ome_zarr.writer import write_labels\n",
    "from napari_ome_zarr_roi_loader.utils import read_table\n",
    "from pathlib import Path\n",
    "from anndata.experimental import write_elem"
   ]
  },
  {
   "cell_type": "code",
   "execution_count": null,
   "id": "5e336669-1818-44ba-be55-b388c3b22164",
   "metadata": {},
   "outputs": [],
   "source": [
    "zarr_url = \"/Users/joel/Desktop/20230510_Fractal_web_test/20200812-CardiomyocyteDifferentiation14-Cycle1_mip.zarr/B/03/0\"\n",
    "zarr_3D_url = \"/Users/joel/Desktop/20230510_Fractal_web_test/20200812-CardiomyocyteDifferentiation14-Cycle1.zarr/B/03/0\"\n",
    "new_z_planes = 19\n",
    "level = 0\n",
    "label_name = \"nuclei\"\n",
    "ROI_tables_to_copy = [\"FOV_ROI_table\"]"
   ]
  },
  {
   "cell_type": "code",
   "execution_count": null,
   "id": "ebd0ba34-83c3-459d-9995-d3dc85b1f718",
   "metadata": {},
   "outputs": [],
   "source": [
    "# TODO: Check the case where Z spacing is not 1um: \n",
    "# What is in the scale parameter then? Is it also set to e.g. 2, 0.16, 0.16? in 2D .zattrs?\n",
    "# Load the Z pixel size from there\n",
    "z_pixel_size = 1.0"
   ]
  },
  {
   "cell_type": "markdown",
   "id": "9cc0517f-1ce1-4e4e-a791-0ac74e723b29",
   "metadata": {},
   "source": [
    "### 1) Load a 2D label image"
   ]
  },
  {
   "cell_type": "code",
   "execution_count": null,
   "id": "29d9f3a6-1d70-448e-8f88-3c127561d0d1",
   "metadata": {},
   "outputs": [],
   "source": [
    "label_img = da.from_zarr(f\"{zarr_url}/labels/{label_name}/{level}\")\n",
    "with zarr.open(f\"{zarr_url}/labels/{label_name}\", mode='rw+') as zarr_label_img:\n",
    "    coordinate_transforms_label_img = zarr_label_img.attrs[\"multiscales\"][0]['datasets']\n",
    "    label_img_scale = zarr_label_img.attrs['multiscales'][0]['datasets'][level]['coordinateTransformations'][0][\"scale\"]"
   ]
  },
  {
   "cell_type": "markdown",
   "id": "31178f1f-efbf-4bc3-b862-19d45a08a8eb",
   "metadata": {},
   "source": [
    "### 2) Create a 3D stack of the label image"
   ]
  },
  {
   "cell_type": "code",
   "execution_count": null,
   "id": "faed92b8-5427-441a-98c4-15930f103a1b",
   "metadata": {},
   "outputs": [],
   "source": [
    "label_img_3D = da.stack([label_img.squeeze()] * new_z_planes)\n",
    "label_img_3D"
   ]
  },
  {
   "cell_type": "code",
   "execution_count": null,
   "id": "7cffaa85-8990-4f7f-8267-208a08100e72",
   "metadata": {},
   "outputs": [],
   "source": [
    "# Have a look at the label image in napari\n",
    "# Needs the numpy arrays, because dask arrays aren't easily edited in napari\n",
    "viewer = napari.Viewer()\n",
    "viewer.add_image(np.array(img), scale=img_scale)\n",
    "# label_layer = viewer.add_labels(label_image)\n",
    "# Optionally set a correct scale (or load it from the OME-Zarr file):\n",
    "label_layer = viewer.add_labels(np.array(label_img), scale=label_img_scale)"
   ]
  },
  {
   "cell_type": "code",
   "execution_count": null,
   "id": "6293af34-0fea-49ce-9917-406b0d42a314",
   "metadata": {},
   "outputs": [],
   "source": [
    "# Optionally modify the label layer manually in napari, then get that modified label layer\n",
    "label_image = label_layer.data"
   ]
  },
  {
   "cell_type": "markdown",
   "id": "edb08843-f1d4-4899-85ec-010116aa188d",
   "metadata": {},
   "source": [
    "### 3b) Save changed label image to OME-Zarr"
   ]
  },
  {
   "cell_type": "code",
   "execution_count": null,
   "id": "863e6f6f-ecb0-48ab-9d94-f30d2c9d8e8a",
   "metadata": {},
   "outputs": [],
   "source": [
    "# TODO: Make this just the old label name (once debugging is done)\n",
    "new_label_name = \"manual_label_correction_5\"\n",
    "chunks = (1, 2160, 2560)\n",
    "with zarr.open(zarr_3D_url, mode='rw+') as zarr_img:\n",
    "    write_labels(\n",
    "        label_img_3D,\n",
    "        zarr_img,\n",
    "        name = new_label_name,\n",
    "        axes = \"zyx\",\n",
    "        chunks = chunks,\n",
    "        storage_options = {\"dimension_separator\": '/'}\n",
    "    )\n",
    "\n",
    "    # Hacky way of ensuring we have the correct metadata, because the writer \n",
    "    # doesn't get the metadata right yet.\n",
    "    # This assumes the output labels have the same shape as the loaded image\n",
    "    # coordinate_transforms = zarr_img.attrs[\"multiscales\"][0]['datasets']\n",
    "    axes = zarr_img.attrs[\"multiscales\"][0][\"axes\"]\n",
    "    labels_zarr = zarr_img[f\"labels/{new_label_name}\"]\n",
    "    multiscales = labels_zarr.attrs['multiscales']\n",
    "    multiscales[0]['datasets'] = coordinate_transforms_label_img\n",
    "    # Skip the channels axis, because this image contains no channels\n",
    "    multiscales[0][\"axes\"] = axes[1:]\n",
    "    labels_zarr.attrs['multiscales'] = multiscales\n",
    "\n",
    "    # Update ROI tables\n",
    "    for ROI_table in ROI_tables_to_copy:\n",
    "        roi_an = read_table(Path(zarr_url), ROI_table)\n",
    "        nb_rois = len(roi_an.X)\n",
    "        # Set the new Z values to span the whole ROI\n",
    "        roi_an.X[:, 5] = np.array([z_pixel_size*new_z_planes]*nb_rois)\n",
    "\n",
    "        # TODO: Check that the table doesn't exist yet. \n",
    "        # Otherwise make an overwrite check?\n",
    "    \n",
    "        # Save the ROI table to the 3D OME-Zarr file\n",
    "        new_roi_name = ROI_table\n",
    "        group_tables = zarr_img.require_group(\"tables/\")\n",
    "        write_elem(group_tables, new_roi_name, roi_an)\n",
    "        \n",
    "        # Update the tables .zattrs for the new table\n",
    "        group_tables.attrs[\"tables\"] = group_tables.attrs[\"tables\"] + [new_roi_name]"
   ]
  },
  {
   "cell_type": "code",
   "execution_count": null,
   "id": "d3db0a1f-5ce6-4fdb-bb08-df3f2c32b5e4",
   "metadata": {},
   "outputs": [],
   "source": []
  },
  {
   "cell_type": "code",
   "execution_count": null,
   "id": "57505210-dfb3-4de0-84c7-f48ec2c8aeb9",
   "metadata": {},
   "outputs": [],
   "source": []
  },
  {
   "cell_type": "code",
   "execution_count": null,
   "id": "cbe31a09-ed4e-4693-b19f-126b90f348e8",
   "metadata": {},
   "outputs": [],
   "source": []
  },
  {
   "cell_type": "code",
   "execution_count": null,
   "id": "9bd79787-e8e0-4ace-b0dd-4a2fedc07306",
   "metadata": {},
   "outputs": [],
   "source": []
  },
  {
   "cell_type": "code",
   "execution_count": null,
   "id": "80f6ce8c-48f9-4a8e-b397-beaeeeda4678",
   "metadata": {},
   "outputs": [],
   "source": [
    "import anndata as ad\n",
    "table_url = Path(zarr_3D_url) / f\"tables/{new_roi_name}\"\n",
    "roi_an = ad.read_zarr(table_url)"
   ]
  },
  {
   "cell_type": "code",
   "execution_count": null,
   "id": "6fec34c4-7b7c-4adf-8650-6acfef8d0362",
   "metadata": {},
   "outputs": [],
   "source": [
    "roi_df = roi_an.to_df()\n",
    "roi_df"
   ]
  },
  {
   "cell_type": "code",
   "execution_count": null,
   "id": "f47dd25b-8036-4007-936d-a6d3cd24d163",
   "metadata": {},
   "outputs": [],
   "source": [
    "# DONE: Also modify & copy over the ROI table: \n",
    "# Only if there are new ROI tables, e.g. an organoid ROI table?\n",
    "# => input parameter which ROI_tables to copy over"
   ]
  },
  {
   "cell_type": "code",
   "execution_count": null,
   "id": "aac69645-f13b-4808-9cad-fc38e719f5e6",
   "metadata": {},
   "outputs": [],
   "source": [
    "# TODO: Test on Silvia's data"
   ]
  },
  {
   "cell_type": "code",
   "execution_count": null,
   "id": "e9f80c9b-a951-4b6f-982b-5f7d3bbe86df",
   "metadata": {},
   "outputs": [],
   "source": [
    "# TODO: Wrap this up in a task\n",
    "# change the metadata:\n",
    "# Changing metadata needs a second task atm, because it needs to be plate parallel, not per well"
   ]
  },
  {
   "cell_type": "code",
   "execution_count": null,
   "id": "9970e144-58bb-4620-aa8d-a8e5f2d4d37f",
   "metadata": {},
   "outputs": [],
   "source": []
  }
 ],
 "metadata": {
  "kernelspec": {
   "display_name": "Python 3 (ipykernel)",
   "language": "python",
   "name": "python3"
  },
  "language_info": {
   "codemirror_mode": {
    "name": "ipython",
    "version": 3
   },
   "file_extension": ".py",
   "mimetype": "text/x-python",
   "name": "python",
   "nbconvert_exporter": "python",
   "pygments_lexer": "ipython3",
   "version": "3.10.10"
  }
 },
 "nbformat": 4,
 "nbformat_minor": 5
}
